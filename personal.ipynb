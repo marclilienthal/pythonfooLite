{
 "cells": [
  {
   "cell_type": "markdown",
   "metadata": {},
   "source": [
    "# Personendaten\n",
    "## Über die Aufgaben\n",
    "Diese Aufgabenreihe beschäftigt sich mit der Eingabe und der Verarbeitung von personenbezogenen Daten und soll als anschauliches Beispiel durch die verschiedenen Level führen. <br>\n",
    "Die Aufgaben sollen aufeinander aufbauen d.h. es soll ein Programm geschrieben und fortwärend verbessert werden. <br>\n",
    "Es steht dir natürlich frei, wie du in deiner Ordnerstruktur die Aufgaben strukturierst, hier ein paar Vorschläge:\n",
    "* Ein Ordner \"Personen\" mit je einer Datei \"personX.py\" für jedes Level, wobei X für das Level steht.\n",
    "* Einen Ordner \"Personen\" mit je einem Unterordner pro Level.\n",
    "* Ein git-Repository \"Personen\" mit einer Datei \"person.py\". Im git-Repo sind die Level als tags hinterlegt."
   ]
  },
  {
   "cell_type": "markdown",
   "metadata": {},
   "source": [
    "## Level 1\n",
    "* Eingabe (`input()`)\n",
    "* Ausgabe (`print()`)\n",
    "* Typkonvertierung (`int()`)"
   ]
  },
  {
   "cell_type": "markdown",
   "metadata": {},
   "source": [
    "### Aufgaben\n",
    "1. Das Programm soll den Namen und das Alter einer Person einlesen\n",
    "2. Das Programm soll die eingegebenen Daten in ein sinnvolles Format konvertieren\n",
    "3. Das Programm soll die Personendaten in einer ansprechenden Form ausgeben"
   ]
  },
  {
   "cell_type": "markdown",
   "metadata": {},
   "source": [
    "### Lösung"
   ]
  },
  {
   "cell_type": "code",
   "execution_count": 13,
   "metadata": {},
   "outputs": [
    {
     "name": "stdin",
     "output_type": "stream",
     "text": [
      "surname:  dodo\n",
      "last name:  nodata\n",
      "age (in years):  12\n"
     ]
    },
    {
     "name": "stdout",
     "output_type": "stream",
     "text": [
      "\n",
      "Name: Dodo Nodata\n",
      "Alter: 12\n",
      "\n"
     ]
    }
   ],
   "source": [
    "# Eingabe der Daten\n",
    "name = input(\"surname: \")\n",
    "last_name = input(\"last name: \")\n",
    "age_str = input(\"age (in years): \")\n",
    "\n",
    "# Konvertierung der Daten:\n",
    "name = name.capitalize()\n",
    "last_name = last_name.capitalize()\n",
    "full_name = name + \" \" + last_name\n",
    "age = int(age_str)\n",
    "\n",
    "# Ausgabe der Daten\n",
    "print(f\"\"\"\n",
    "Name: {full_name}\n",
    "Alter: {age}\n",
    "\"\"\")"
   ]
  },
  {
   "cell_type": "markdown",
   "metadata": {},
   "source": [
    "### Erklärung\n",
    "1. `name = input(\"surname: \")` <br>\n",
    "Wir nehmen einen String entgegen und speichern diesen in der Variable `name`. Die Variable ermöglicht es uns später auf den eingegebenen Namen zurück zu greifen, um den Namen konvertieren und ausgeben zu können.\n",
    "2. `last_name = input(\"last name: \")` <br>\n",
    "Analog zum Vornamen speichern wir auch den Nachnamen in einer Variablen. <br>\n",
    "3. `age_str = input(\"age (in years): \")` <br>\n",
    "Hier nehmen wir das Alter entgegen und speichern es in einer Variablen. Die `input()` Funktion liefert unabhängig der Eingabe einen String zurück. Um das Alter später als Integer verarbeiten zu können müssen wir den String `age_str` konvertieren.\n",
    "4. `name = name.capitalize()` <br>\n",
    "Hier benutzen wir die `str.capitalize()` Methode, um das Format des eingegebenen Vornamens zu ändern. Die Methode sorgt dafür, dass der Name aus einem Großbuchstaben am Anfang und sonst Kleinbuchstaben besteht.\n",
    "5. `last_name = last_name.capitalize()` <br>\n",
    "Wir konvertieren den Nachnamen analog zum Vornamen.\n",
    "6. `full_name = name + \" \" + last_name` <br>\n",
    "Wir speichern den Vornamen und den Nachnamen in einer neuen Variablen und trennen die beiden Namen dabei mit einem Leerzeichen. Dafür benutzen wir einen Format-String.\n",
    "7. `age = int(age_str)`<br>\n",
    "Wie bereits erwähnt müssen wir das Alter in einen Integer konvertieren."
   ]
  },
  {
   "cell_type": "markdown",
   "metadata": {},
   "source": [
    "## Level 2\n",
    "* `boolean`-Typ\n",
    "* `if`-Bedingungen\n",
    "* `while`-Schleife"
   ]
  },
  {
   "cell_type": "markdown",
   "metadata": {},
   "source": [
    "### Aufgaben\n",
    "* Das Programm soll beliebig viele Personendaten (voller Name und Alter) entgegen nehmen\n",
    "* Das Programm soll die Personendaten speichern.\n",
    "* Das Programm soll die gespeicherten Daten ausgeben."
   ]
  },
  {
   "cell_type": "markdown",
   "metadata": {},
   "source": [
    "### Lösung"
   ]
  },
  {
   "cell_type": "code",
   "execution_count": 9,
   "metadata": {},
   "outputs": [
    {
     "name": "stdin",
     "output_type": "stream",
     "text": [
      "surname:  dodo\n",
      "last name:  nodata\n",
      "age (in years):  21\n",
      "Continue (y/n):  \n",
      "surname:  frank\n",
      "last name:  nord\n",
      "age (in years):  42\n",
      "Continue (y/n):  n\n"
     ]
    },
    {
     "name": "stdout",
     "output_type": "stream",
     "text": [
      "\n",
      "\n",
      "Dodo Nodata aged 21\n",
      "Frank Nord aged 42\n",
      "\n"
     ]
    }
   ],
   "source": [
    "persons = \"\"\n",
    "while True: \n",
    "    name = input(\"surname: \")\n",
    "    name = name.capitalize()\n",
    "\n",
    "    last_name = input(\"last name: \")\n",
    "    last_name = last_name.capitalize()\n",
    "\n",
    "    full_name = name + \" \" + last_name\n",
    "\n",
    "    age = int(input(\"age (in years): \"))\n",
    "\n",
    "    person_str = f\"{full_name} aged {age}\\n\"\n",
    "    persons += person_str\n",
    "    \n",
    "    keep_asking = input(\"Continue (y/n): \")\n",
    "    if keep_asking == \"n\":\n",
    "        break\n",
    "\n",
    "print(\"\\n\")\n",
    "print(persons)"
   ]
  },
  {
   "cell_type": "markdown",
   "metadata": {},
   "source": [
    "## Level 3\n",
    "* Listen und Dictionaries\n",
    "* Listen-Methoden\n",
    "* `for`-Schleife"
   ]
  },
  {
   "cell_type": "markdown",
   "metadata": {},
   "source": [
    "### Aufgaben\n",
    "* Das Programm soll beliebig viele Personendaten entgegen nehmen.\n",
    "* Das Programm soll die Personendaten in einem geeigneten Format speichern.\n",
    "* Das Programm soll die Personendaten in einer ansprechenden Form ausgeben."
   ]
  },
  {
   "cell_type": "markdown",
   "metadata": {},
   "source": [
    "### Lösung"
   ]
  },
  {
   "cell_type": "code",
   "execution_count": 23,
   "metadata": {},
   "outputs": [
    {
     "name": "stdin",
     "output_type": "stream",
     "text": [
      "surname:  dodo\n",
      "last name:  nodata\n",
      "age (in years):  21\n",
      "Continue (y/n):  n\n"
     ]
    },
    {
     "name": "stdout",
     "output_type": "stream",
     "text": [
      "\n",
      "\n",
      "Name:  Dodo Nodata\n",
      "Alter: 21\n"
     ]
    }
   ],
   "source": [
    "person_list = []\n",
    "\n",
    "while True: \n",
    "    name = input(\"surname: \")\n",
    "    name = name.capitalize()\n",
    "\n",
    "    last_name = input(\"last name: \")\n",
    "    last_name = last_name.capitalize()\n",
    "\n",
    "    full_name = name + \" \" + last_name\n",
    "\n",
    "    age = int(input(\"age (in years): \"))\n",
    "\n",
    "    current_person = {}\n",
    "    current_person[\"name\"] = name\n",
    "    current_person[\"last_name\"] = last_name\n",
    "    current_person[\"full_name\"] = full_name\n",
    "    current_person[\"age\"] = age\n",
    "    \n",
    "    person_list.append(current_person)\n",
    "        \n",
    "    keep_asking = input(\"Continue (y/n): \")\n",
    "    if keep_asking == \"n\":\n",
    "        break\n",
    "\n",
    "person_list.sort()\n",
    "        \n",
    "print(\"\\n\")\n",
    "for p in person_list:\n",
    "    p_str = f\"Name:  {p['full_name']}\\nAlter: {p['age']}\"\n",
    "    print(p_str)"
   ]
  },
  {
   "cell_type": "markdown",
   "metadata": {},
   "source": [
    "## Level 4 - Dateien\n",
    "* Dateien lesen\n",
    "* Dateien schreiben\n",
    "* `pathlib`"
   ]
  },
  {
   "cell_type": "markdown",
   "metadata": {},
   "source": [
    "### Aufgaben\n",
    "* Bestehende Personendaten sollen aus einer Datei geladen werden\n",
    "* Neue Personendaten sollen hinzugefügt werden\n",
    "* Die aktualisierten Personendaten sollen in einer Datei gespeichert werden"
   ]
  },
  {
   "cell_type": "markdown",
   "metadata": {},
   "source": [
    "### Lösung"
   ]
  },
  {
   "cell_type": "code",
   "execution_count": null,
   "metadata": {},
   "outputs": [],
   "source": []
  },
  {
   "cell_type": "markdown",
   "metadata": {},
   "source": [
    "## Level 5 - Funktionen"
   ]
  },
  {
   "cell_type": "markdown",
   "metadata": {},
   "source": [
    "### Aufgaben\n",
    "* Das Programm soll das Laden und Speichern der Daten in eine Funktion verlagern.\n",
    "* Die Daten sollen sets sortiert ausgegeben werden."
   ]
  },
  {
   "cell_type": "markdown",
   "metadata": {},
   "source": [
    "### Lösung"
   ]
  },
  {
   "cell_type": "code",
   "execution_count": null,
   "metadata": {},
   "outputs": [],
   "source": []
  },
  {
   "cell_type": "markdown",
   "metadata": {},
   "source": [
    "## Level 7 - Klassen\n",
    "* Klassen\n",
    "* Methoden\n",
    "* Attribute"
   ]
  },
  {
   "cell_type": "markdown",
   "metadata": {},
   "source": [
    "### Aufgaben\n",
    "* Eine `Person`-Klasse soll die Attribute einer Person speichern können.\n",
    "* Die Personendaten sollen in einer `Person`-Objekt gespeichert werden."
   ]
  },
  {
   "cell_type": "markdown",
   "metadata": {},
   "source": [
    "### Lösung"
   ]
  },
  {
   "cell_type": "code",
   "execution_count": null,
   "metadata": {},
   "outputs": [],
   "source": []
  },
  {
   "cell_type": "markdown",
   "metadata": {},
   "source": [
    "## Level 8 - random Modul"
   ]
  },
  {
   "cell_type": "markdown",
   "metadata": {},
   "source": [
    "### Aufgaben\n",
    "* Es sollen zufällige Testdaten, unteranderem mit einer Namenliste erstellt werden."
   ]
  },
  {
   "cell_type": "markdown",
   "metadata": {},
   "source": [
    "### Lösung"
   ]
  },
  {
   "cell_type": "code",
   "execution_count": null,
   "metadata": {},
   "outputs": [],
   "source": []
  }
 ],
 "metadata": {
  "kernelspec": {
   "display_name": "Python 3",
   "language": "python",
   "name": "python3"
  },
  "language_info": {
   "codemirror_mode": {
    "name": "ipython",
    "version": 3
   },
   "file_extension": ".py",
   "mimetype": "text/x-python",
   "name": "python",
   "nbconvert_exporter": "python",
   "pygments_lexer": "ipython3",
   "version": "3.6.8"
  }
 },
 "nbformat": 4,
 "nbformat_minor": 2
}
